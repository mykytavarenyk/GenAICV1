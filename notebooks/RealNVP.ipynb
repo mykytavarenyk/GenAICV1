{
 "nbformat": 4,
 "nbformat_minor": 0,
 "metadata": {
  "colab": {
   "provenance": [],
   "machine_shape": "hm",
   "gpuType": "A100"
  },
  "kernelspec": {
   "name": "python3",
   "display_name": "Python 3"
  },
  "language_info": {
   "name": "python"
  },
  "accelerator": "GPU"
 },
 "cells": [
  {
   "cell_type": "code",
   "execution_count": 1,
   "metadata": {
    "colab": {
     "base_uri": "https://localhost:8080/"
    },
    "id": "bzrqHcoj4NFG",
    "outputId": "57cfd5e3-9c76-42a2-e698-4d6c4e1f5248"
   },
   "outputs": [
    {
     "output_type": "stream",
     "name": "stdout",
     "text": [
      "Requirement already satisfied: torch in /usr/local/lib/python3.10/dist-packages (2.5.1+cu121)\n",
      "Requirement already satisfied: torchvision in /usr/local/lib/python3.10/dist-packages (0.20.1+cu121)\n",
      "Requirement already satisfied: tensorboard in /usr/local/lib/python3.10/dist-packages (2.17.1)\n",
      "Requirement already satisfied: tqdm in /usr/local/lib/python3.10/dist-packages (4.66.6)\n",
      "Requirement already satisfied: matplotlib in /usr/local/lib/python3.10/dist-packages (3.8.0)\n",
      "Requirement already satisfied: numpy in /usr/local/lib/python3.10/dist-packages (1.26.4)\n",
      "Requirement already satisfied: filelock in /usr/local/lib/python3.10/dist-packages (from torch) (3.16.1)\n",
      "Requirement already satisfied: typing-extensions>=4.8.0 in /usr/local/lib/python3.10/dist-packages (from torch) (4.12.2)\n",
      "Requirement already satisfied: networkx in /usr/local/lib/python3.10/dist-packages (from torch) (3.4.2)\n",
      "Requirement already satisfied: jinja2 in /usr/local/lib/python3.10/dist-packages (from torch) (3.1.4)\n",
      "Requirement already satisfied: fsspec in /usr/local/lib/python3.10/dist-packages (from torch) (2024.10.0)\n",
      "Requirement already satisfied: sympy==1.13.1 in /usr/local/lib/python3.10/dist-packages (from torch) (1.13.1)\n",
      "Requirement already satisfied: mpmath<1.4,>=1.1.0 in /usr/local/lib/python3.10/dist-packages (from sympy==1.13.1->torch) (1.3.0)\n",
      "Requirement already satisfied: pillow!=8.3.*,>=5.3.0 in /usr/local/lib/python3.10/dist-packages (from torchvision) (11.0.0)\n",
      "Requirement already satisfied: absl-py>=0.4 in /usr/local/lib/python3.10/dist-packages (from tensorboard) (1.4.0)\n",
      "Requirement already satisfied: grpcio>=1.48.2 in /usr/local/lib/python3.10/dist-packages (from tensorboard) (1.68.1)\n",
      "Requirement already satisfied: markdown>=2.6.8 in /usr/local/lib/python3.10/dist-packages (from tensorboard) (3.7)\n",
      "Requirement already satisfied: packaging in /usr/local/lib/python3.10/dist-packages (from tensorboard) (24.2)\n",
      "Requirement already satisfied: protobuf!=4.24.0,>=3.19.6 in /usr/local/lib/python3.10/dist-packages (from tensorboard) (4.25.5)\n",
      "Requirement already satisfied: setuptools>=41.0.0 in /usr/local/lib/python3.10/dist-packages (from tensorboard) (75.1.0)\n",
      "Requirement already satisfied: six>1.9 in /usr/local/lib/python3.10/dist-packages (from tensorboard) (1.17.0)\n",
      "Requirement already satisfied: tensorboard-data-server<0.8.0,>=0.7.0 in /usr/local/lib/python3.10/dist-packages (from tensorboard) (0.7.2)\n",
      "Requirement already satisfied: werkzeug>=1.0.1 in /usr/local/lib/python3.10/dist-packages (from tensorboard) (3.1.3)\n",
      "Requirement already satisfied: contourpy>=1.0.1 in /usr/local/lib/python3.10/dist-packages (from matplotlib) (1.3.1)\n",
      "Requirement already satisfied: cycler>=0.10 in /usr/local/lib/python3.10/dist-packages (from matplotlib) (0.12.1)\n",
      "Requirement already satisfied: fonttools>=4.22.0 in /usr/local/lib/python3.10/dist-packages (from matplotlib) (4.55.2)\n",
      "Requirement already satisfied: kiwisolver>=1.0.1 in /usr/local/lib/python3.10/dist-packages (from matplotlib) (1.4.7)\n",
      "Requirement already satisfied: pyparsing>=2.3.1 in /usr/local/lib/python3.10/dist-packages (from matplotlib) (3.2.0)\n",
      "Requirement already satisfied: python-dateutil>=2.7 in /usr/local/lib/python3.10/dist-packages (from matplotlib) (2.8.2)\n",
      "Requirement already satisfied: MarkupSafe>=2.1.1 in /usr/local/lib/python3.10/dist-packages (from werkzeug>=1.0.1->tensorboard) (3.0.2)\n"
     ]
    }
   ],
   "source": [
    "!pip install torch torchvision tensorboard tqdm matplotlib numpy"
   ]
  },
  {
   "cell_type": "code",
   "source": [
    "from utils.train import train_model\n",
    "from data.datasets import get_cifar10_dataloaders\n",
    "from models.RealNVP import RealNVP, RealNVPLoss\n",
    "import os\n",
    "import numpy as np\n",
    "import torch\n",
    "import torch.nn as nn\n",
    "import torch.nn.functional as F\n",
    "import torch.optim as optim\n",
    "import torchvision\n",
    "import torchvision.transforms as transforms\n",
    "from torch.utils.tensorboard import SummaryWriter\n",
    "from tqdm import tqdm\n",
    "from typing import Callable, Optional, Dict\n",
    "from enum import IntEnum\n",
    "\n",
    "batch_size = 64\n",
    "num_epochs = 20\n",
    "learning_rate = 0.001\n",
    "num_blocks = 8\n",
    "num_scales = 2\n",
    "in_channels = 3\n",
    "mid_channels = 64\n",
    "model_name = 'RealNVP_CIFAR10'\n",
    "device = 'cuda'\n",
    "\n",
    "print(f'Using device: {device}')\n",
    "\n",
    "    # Data loading and preprocessing\n",
    "train_loader, val_loader, test_loader, denorm_params = get_cifar10_dataloaders(batch_size=batch_size)\n",
    "\n",
    "    # Model, loss function, optimizer\n",
    "model = RealNVP(num_scales=num_scales, in_channels=in_channels, mid_channels=mid_channels, num_blocks=num_blocks).to(device)\n",
    "criterion = RealNVPLoss().to(device)\n",
    "optimizer = optim.Adam(model.parameters(), lr=learning_rate)\n",
    "\n",
    "    # TensorBoard writer\n",
    "writer = SummaryWriter(log_dir=f'logs/{model_name}')\n",
    "\n",
    "    # Directory to save generated images\n",
    "image_save_dir = f'images/{model_name}'\n",
    "os.makedirs(image_save_dir, exist_ok=True)\n",
    "\n",
    "    # Denormalization parameters (if any). For CIFAR-10 with ToTensor(), images are in [0,1]\n",
    "denorm_params = None  # Modify if normalization was applied\n",
    "\n",
    "    # Train the model using the original training pipeline\n",
    "train_model(\n",
    "        model=model,\n",
    "        train_loader=train_loader,\n",
    "        val_loader=val_loader,\n",
    "        optimizer=optimizer,\n",
    "        num_epochs=num_epochs,\n",
    "        device=device,\n",
    "        model_name=model_name,\n",
    "        logger=writer,\n",
    "        save_best=True,\n",
    "        denorm_params=denorm_params,\n",
    "        model_update_fn=None,  # Define if any model-specific updates are needed\n",
    "        generate_images_flag=True\n",
    "    )\n",
    "\n"
   ],
   "metadata": {
    "colab": {
     "base_uri": "https://localhost:8080/"
    },
    "id": "Yam1w19hX0N7",
    "outputId": "2baa6f32-6b9e-4436-bea0-cab59ff53b16"
   },
   "execution_count": 2,
   "outputs": [
    {
     "output_type": "stream",
     "name": "stdout",
     "text": [
      "Using device: cuda\n",
      "Downloading https://www.cs.toronto.edu/~kriz/cifar-10-python.tar.gz to ./data/cifar-10-python.tar.gz\n"
     ]
    },
    {
     "output_type": "stream",
     "name": "stderr",
     "text": [
      "100%|██████████| 170M/170M [00:01<00:00, 88.9MB/s]\n"
     ]
    },
    {
     "output_type": "stream",
     "name": "stdout",
     "text": [
      "Extracting ./data/cifar-10-python.tar.gz to ./data\n",
      "Files already downloaded and verified\n"
     ]
    },
    {
     "output_type": "stream",
     "name": "stderr",
     "text": [
      "/usr/local/lib/python3.10/dist-packages/torch/nn/utils/weight_norm.py:143: FutureWarning: `torch.nn.utils.weight_norm` is deprecated in favor of `torch.nn.utils.parametrizations.weight_norm`.\n",
      "  WeightNorm.apply(module, name, dim)\n",
      "Training Epoch 1/20: 100%|██████████| 782/782 [02:13<00:00,  5.85it/s, Loss=9.41e+3]\n"
     ]
    },
    {
     "output_type": "stream",
     "name": "stdout",
     "text": [
      "Epoch [1/20], Training Loss: 11196.250477, Validation Loss: 320317.555209\n",
      "Best model saved with validation loss: 320317.555209\n",
      "Reconstructed images saved to images/RealNVP_CIFAR10/reconstructions_epoch_1.png\n",
      "Generated images saved to images/RealNVP_CIFAR10/generated_epoch_1.png\n"
     ]
    },
    {
     "output_type": "stream",
     "name": "stderr",
     "text": [
      "Training Epoch 2/20: 100%|██████████| 782/782 [02:11<00:00,  5.94it/s, Loss=9.81e+3]\n"
     ]
    },
    {
     "output_type": "stream",
     "name": "stdout",
     "text": [
      "Epoch [2/20], Training Loss: 9523.634831, Validation Loss: 16357.942047\n",
      "Best model saved with validation loss: 16357.942047\n",
      "Reconstructed images saved to images/RealNVP_CIFAR10/reconstructions_epoch_2.png\n",
      "Generated images saved to images/RealNVP_CIFAR10/generated_epoch_2.png\n"
     ]
    },
    {
     "output_type": "stream",
     "name": "stderr",
     "text": [
      "Training Epoch 3/20: 100%|██████████| 782/782 [02:14<00:00,  5.81it/s, Loss=9.44e+3]\n"
     ]
    },
    {
     "output_type": "stream",
     "name": "stdout",
     "text": [
      "Epoch [3/20], Training Loss: 9245.084893, Validation Loss: 88228.515428\n",
      "Generated images saved to images/RealNVP_CIFAR10/generated_epoch_3.png\n"
     ]
    },
    {
     "output_type": "stream",
     "name": "stderr",
     "text": [
      "Training Epoch 4/20: 100%|██████████| 782/782 [02:18<00:00,  5.65it/s, Loss=9.21e+3]\n"
     ]
    },
    {
     "output_type": "stream",
     "name": "stdout",
     "text": [
      "Epoch [4/20], Training Loss: 8976.499253, Validation Loss: 61281.382659\n",
      "Generated images saved to images/RealNVP_CIFAR10/generated_epoch_4.png\n"
     ]
    },
    {
     "output_type": "stream",
     "name": "stderr",
     "text": [
      "Training Epoch 5/20: 100%|██████████| 782/782 [02:13<00:00,  5.88it/s, Loss=1.14e+4]\n"
     ]
    },
    {
     "output_type": "stream",
     "name": "stdout",
     "text": [
      "Epoch [5/20], Training Loss: 9250.583839, Validation Loss: 11169.557625\n",
      "Best model saved with validation loss: 11169.557625\n",
      "Reconstructed images saved to images/RealNVP_CIFAR10/reconstructions_epoch_5.png\n",
      "Generated images saved to images/RealNVP_CIFAR10/generated_epoch_5.png\n"
     ]
    },
    {
     "output_type": "stream",
     "name": "stderr",
     "text": [
      "Training Epoch 6/20: 100%|██████████| 782/782 [02:13<00:00,  5.85it/s, Loss=9.1e+3]\n"
     ]
    },
    {
     "output_type": "stream",
     "name": "stdout",
     "text": [
      "Epoch [6/20], Training Loss: 9430.764499, Validation Loss: 21813513.937444\n",
      "Generated images saved to images/RealNVP_CIFAR10/generated_epoch_6.png\n"
     ]
    },
    {
     "output_type": "stream",
     "name": "stderr",
     "text": [
      "Training Epoch 7/20: 100%|██████████| 782/782 [02:13<00:00,  5.86it/s, Loss=9.59e+3]\n"
     ]
    },
    {
     "output_type": "stream",
     "name": "stdout",
     "text": [
      "Epoch [7/20], Training Loss: 9108.500514, Validation Loss: 417609.332850\n",
      "Generated images saved to images/RealNVP_CIFAR10/generated_epoch_7.png\n"
     ]
    },
    {
     "output_type": "stream",
     "name": "stderr",
     "text": [
      "Training Epoch 8/20: 100%|██████████| 782/782 [02:12<00:00,  5.90it/s, Loss=8.6e+3]\n"
     ]
    },
    {
     "output_type": "stream",
     "name": "stdout",
     "text": [
      "Epoch [8/20], Training Loss: 8924.986573, Validation Loss: 134834.523248\n",
      "Generated images saved to images/RealNVP_CIFAR10/generated_epoch_8.png\n"
     ]
    },
    {
     "output_type": "stream",
     "name": "stderr",
     "text": [
      "Training Epoch 9/20: 100%|██████████| 782/782 [02:12<00:00,  5.90it/s, Loss=1.03e+4]\n"
     ]
    },
    {
     "output_type": "stream",
     "name": "stdout",
     "text": [
      "Epoch [9/20], Training Loss: 8694.000083, Validation Loss: 8869.712297\n",
      "Best model saved with validation loss: 8869.712297\n",
      "Reconstructed images saved to images/RealNVP_CIFAR10/reconstructions_epoch_9.png\n",
      "Generated images saved to images/RealNVP_CIFAR10/generated_epoch_9.png\n"
     ]
    },
    {
     "output_type": "stream",
     "name": "stderr",
     "text": [
      "Training Epoch 10/20: 100%|██████████| 782/782 [02:12<00:00,  5.92it/s, Loss=8.91e+3]\n"
     ]
    },
    {
     "output_type": "stream",
     "name": "stdout",
     "text": [
      "Epoch [10/20], Training Loss: 8708.070231, Validation Loss: 172671.712578\n",
      "Generated images saved to images/RealNVP_CIFAR10/generated_epoch_10.png\n"
     ]
    },
    {
     "output_type": "stream",
     "name": "stderr",
     "text": [
      "Training Epoch 11/20: 100%|██████████| 782/782 [02:13<00:00,  5.88it/s, Loss=9.71e+3]\n"
     ]
    },
    {
     "output_type": "stream",
     "name": "stdout",
     "text": [
      "Epoch [11/20], Training Loss: 8483.931152, Validation Loss: 101339.472872\n",
      "Generated images saved to images/RealNVP_CIFAR10/generated_epoch_11.png\n"
     ]
    },
    {
     "output_type": "stream",
     "name": "stderr",
     "text": [
      "Training Epoch 12/20: 100%|██████████| 782/782 [02:11<00:00,  5.93it/s, Loss=9.33e+3]\n"
     ]
    },
    {
     "output_type": "stream",
     "name": "stdout",
     "text": [
      "Epoch [12/20], Training Loss: 8594.412249, Validation Loss: 3650861407.853700\n",
      "Generated images saved to images/RealNVP_CIFAR10/generated_epoch_12.png\n"
     ]
    },
    {
     "output_type": "stream",
     "name": "stderr",
     "text": [
      "Training Epoch 13/20: 100%|██████████| 782/782 [02:12<00:00,  5.89it/s, Loss=8.68e+3]\n"
     ]
    },
    {
     "output_type": "stream",
     "name": "stdout",
     "text": [
      "Epoch [13/20], Training Loss: 8385.314159, Validation Loss: 56705.065300\n",
      "Generated images saved to images/RealNVP_CIFAR10/generated_epoch_13.png\n"
     ]
    },
    {
     "output_type": "stream",
     "name": "stderr",
     "text": [
      "Training Epoch 14/20: 100%|██████████| 782/782 [02:11<00:00,  5.93it/s, Loss=8.68e+3]\n"
     ]
    },
    {
     "output_type": "stream",
     "name": "stdout",
     "text": [
      "Epoch [14/20], Training Loss: 8310.035315, Validation Loss: 16573.405445\n",
      "Generated images saved to images/RealNVP_CIFAR10/generated_epoch_14.png\n"
     ]
    },
    {
     "output_type": "stream",
     "name": "stderr",
     "text": [
      "Training Epoch 15/20: 100%|██████████| 782/782 [02:13<00:00,  5.85it/s, Loss=8.48e+3]\n"
     ]
    },
    {
     "output_type": "stream",
     "name": "stdout",
     "text": [
      "Epoch [15/20], Training Loss: 8592.746955, Validation Loss: 8477.790119\n",
      "Best model saved with validation loss: 8477.790119\n",
      "Reconstructed images saved to images/RealNVP_CIFAR10/reconstructions_epoch_15.png\n",
      "Generated images saved to images/RealNVP_CIFAR10/generated_epoch_15.png\n"
     ]
    },
    {
     "output_type": "stream",
     "name": "stderr",
     "text": [
      "Training Epoch 16/20: 100%|██████████| 782/782 [02:13<00:00,  5.84it/s, Loss=9.48e+3]\n"
     ]
    },
    {
     "output_type": "stream",
     "name": "stdout",
     "text": [
      "Epoch [16/20], Training Loss: 8409.794547, Validation Loss: 8511.496597\n",
      "Generated images saved to images/RealNVP_CIFAR10/generated_epoch_16.png\n"
     ]
    },
    {
     "output_type": "stream",
     "name": "stderr",
     "text": [
      "Training Epoch 17/20: 100%|██████████| 782/782 [02:13<00:00,  5.88it/s, Loss=7.9e+3]\n"
     ]
    },
    {
     "output_type": "stream",
     "name": "stdout",
     "text": [
      "Epoch [17/20], Training Loss: 8215.337149, Validation Loss: 11251.482625\n",
      "Generated images saved to images/RealNVP_CIFAR10/generated_epoch_17.png\n"
     ]
    },
    {
     "output_type": "stream",
     "name": "stderr",
     "text": [
      "Training Epoch 18/20: 100%|██████████| 782/782 [02:13<00:00,  5.86it/s, Loss=9.02e+3]\n"
     ]
    },
    {
     "output_type": "stream",
     "name": "stdout",
     "text": [
      "Epoch [18/20], Training Loss: 8155.633393, Validation Loss: 8131.734456\n",
      "Best model saved with validation loss: 8131.734456\n",
      "Reconstructed images saved to images/RealNVP_CIFAR10/reconstructions_epoch_18.png\n",
      "Generated images saved to images/RealNVP_CIFAR10/generated_epoch_18.png\n"
     ]
    },
    {
     "output_type": "stream",
     "name": "stderr",
     "text": [
      "Training Epoch 19/20: 100%|██████████| 782/782 [02:13<00:00,  5.87it/s, Loss=9.83e+3]\n"
     ]
    },
    {
     "output_type": "stream",
     "name": "stdout",
     "text": [
      "Epoch [19/20], Training Loss: 8327.916289, Validation Loss: 8809.931844\n",
      "Generated images saved to images/RealNVP_CIFAR10/generated_epoch_19.png\n"
     ]
    },
    {
     "output_type": "stream",
     "name": "stderr",
     "text": [
      "Training Epoch 20/20: 100%|██████████| 782/782 [02:16<00:00,  5.71it/s, Loss=8.14e+3]\n"
     ]
    },
    {
     "output_type": "stream",
     "name": "stdout",
     "text": [
      "Epoch [20/20], Training Loss: 8173.797073, Validation Loss: 13156.217434\n",
      "Generated images saved to images/RealNVP_CIFAR10/generated_epoch_20.png\n"
     ]
    }
   ]
  },
  {
   "cell_type": "code",
   "source": [],
   "metadata": {
    "id": "wG48vHPXRI0x"
   },
   "execution_count": null,
   "outputs": []
  }
 ]
}
