{
 "nbformat": 4,
 "nbformat_minor": 0,
 "metadata": {
  "colab": {
   "provenance": [],
   "machine_shape": "hm",
   "gpuType": "A100"
  },
  "kernelspec": {
   "name": "python3",
   "display_name": "Python 3"
  },
  "language_info": {
   "name": "python"
  },
  "accelerator": "GPU"
 },
 "cells": [
  {
   "cell_type": "code",
   "execution_count": 2,
   "metadata": {
    "colab": {
     "base_uri": "https://localhost:8080/"
    },
    "id": "WbmzxGHKUou4",
    "outputId": "0aac80bd-39cb-41b2-907e-4cace163d98f"
   },
   "outputs": [
    {
     "output_type": "stream",
     "name": "stdout",
     "text": [
      "Requirement already satisfied: torch in /usr/local/lib/python3.10/dist-packages (2.5.1+cu121)\n",
      "Requirement already satisfied: torchvision in /usr/local/lib/python3.10/dist-packages (0.20.1+cu121)\n",
      "Requirement already satisfied: tensorboard in /usr/local/lib/python3.10/dist-packages (2.17.1)\n",
      "Requirement already satisfied: tqdm in /usr/local/lib/python3.10/dist-packages (4.66.6)\n",
      "Requirement already satisfied: matplotlib in /usr/local/lib/python3.10/dist-packages (3.8.0)\n",
      "Requirement already satisfied: numpy in /usr/local/lib/python3.10/dist-packages (1.26.4)\n",
      "Requirement already satisfied: filelock in /usr/local/lib/python3.10/dist-packages (from torch) (3.16.1)\n",
      "Requirement already satisfied: typing-extensions>=4.8.0 in /usr/local/lib/python3.10/dist-packages (from torch) (4.12.2)\n",
      "Requirement already satisfied: networkx in /usr/local/lib/python3.10/dist-packages (from torch) (3.4.2)\n",
      "Requirement already satisfied: jinja2 in /usr/local/lib/python3.10/dist-packages (from torch) (3.1.4)\n",
      "Requirement already satisfied: fsspec in /usr/local/lib/python3.10/dist-packages (from torch) (2024.10.0)\n",
      "Requirement already satisfied: sympy==1.13.1 in /usr/local/lib/python3.10/dist-packages (from torch) (1.13.1)\n",
      "Requirement already satisfied: mpmath<1.4,>=1.1.0 in /usr/local/lib/python3.10/dist-packages (from sympy==1.13.1->torch) (1.3.0)\n",
      "Requirement already satisfied: pillow!=8.3.*,>=5.3.0 in /usr/local/lib/python3.10/dist-packages (from torchvision) (11.0.0)\n",
      "Requirement already satisfied: absl-py>=0.4 in /usr/local/lib/python3.10/dist-packages (from tensorboard) (1.4.0)\n",
      "Requirement already satisfied: grpcio>=1.48.2 in /usr/local/lib/python3.10/dist-packages (from tensorboard) (1.68.0)\n",
      "Requirement already satisfied: markdown>=2.6.8 in /usr/local/lib/python3.10/dist-packages (from tensorboard) (3.7)\n",
      "Requirement already satisfied: packaging in /usr/local/lib/python3.10/dist-packages (from tensorboard) (24.2)\n",
      "Requirement already satisfied: protobuf!=4.24.0,>=3.19.6 in /usr/local/lib/python3.10/dist-packages (from tensorboard) (4.25.5)\n",
      "Requirement already satisfied: setuptools>=41.0.0 in /usr/local/lib/python3.10/dist-packages (from tensorboard) (75.1.0)\n",
      "Requirement already satisfied: six>1.9 in /usr/local/lib/python3.10/dist-packages (from tensorboard) (1.16.0)\n",
      "Requirement already satisfied: tensorboard-data-server<0.8.0,>=0.7.0 in /usr/local/lib/python3.10/dist-packages (from tensorboard) (0.7.2)\n",
      "Requirement already satisfied: werkzeug>=1.0.1 in /usr/local/lib/python3.10/dist-packages (from tensorboard) (3.1.3)\n",
      "Requirement already satisfied: contourpy>=1.0.1 in /usr/local/lib/python3.10/dist-packages (from matplotlib) (1.3.1)\n",
      "Requirement already satisfied: cycler>=0.10 in /usr/local/lib/python3.10/dist-packages (from matplotlib) (0.12.1)\n",
      "Requirement already satisfied: fonttools>=4.22.0 in /usr/local/lib/python3.10/dist-packages (from matplotlib) (4.55.0)\n",
      "Requirement already satisfied: kiwisolver>=1.0.1 in /usr/local/lib/python3.10/dist-packages (from matplotlib) (1.4.7)\n",
      "Requirement already satisfied: pyparsing>=2.3.1 in /usr/local/lib/python3.10/dist-packages (from matplotlib) (3.2.0)\n",
      "Requirement already satisfied: python-dateutil>=2.7 in /usr/local/lib/python3.10/dist-packages (from matplotlib) (2.8.2)\n",
      "Requirement already satisfied: MarkupSafe>=2.1.1 in /usr/local/lib/python3.10/dist-packages (from werkzeug>=1.0.1->tensorboard) (3.0.2)\n"
     ]
    }
   ],
   "source": [
    "!pip install torch torchvision tensorboard tqdm matplotlib numpy"
   ]
  },
  {
   "cell_type": "code",
   "source": [
    "import torch\n",
    "from data.datasets import get_cifar10_dataloaders \n",
    "from models.variational_autoencoder import ConvVAE             \n",
    "from utils.train import train_model      \n"
   ],
   "metadata": {
    "id": "Jbmsllw0VON4"
   },
   "execution_count": 3,
   "outputs": []
  },
  {
   "cell_type": "code",
   "source": [
    "\n",
    "import torch.optim as optim\n",
    "import numpy as np\n",
    "\n",
    "# Set random seeds for reproducibility\n",
    "SEED_NUMPY = 71\n",
    "np.random.seed(SEED_NUMPY)\n",
    "torch.manual_seed(SEED_NUMPY)\n",
    "\n",
    "    # Device configuration\n",
    "device = torch.device(\"cuda\" if torch.cuda.is_available() else \"cpu\")\n",
    "print(f'Using device: {device}')\n",
    "\n",
    "    # Network configuration\n",
    "network_cfg = {\n",
    "        'img_shape': [32, 32, 3],  # Height, Width, Channels\n",
    "        'latent_dim': 128,\n",
    "        'model_name': 'conv_vae',\n",
    "        'learning_rate': 0.0005,\n",
    "}\n",
    "\n",
    "    # Get data loaders and denormalization parameters\n",
    "batch_size = 64\n",
    "train_loader, val_loader, test_loader, denorm_params = get_cifar10_dataloaders(batch_size=batch_size)\n",
    "\n",
    "    # Instantiate ConvVAE\n",
    "model = ConvVAE(h_dim=256, z_dim=network_cfg['latent_dim'])\n",
    "\n",
    "    # Define optimizer\n",
    "optimizer = optim.Adam(model.parameters(), lr=network_cfg['learning_rate'], weight_decay=1e-5)\n",
    "\n",
    "    # Number of epochs\n",
    "num_epochs = 60\n",
    "\n",
    "    # Define model_update_fn to update beta\n",
    "def update_beta(model, epoch):\n",
    "        # Gradually increase beta to 1.0 over epochs\n",
    "      model.beta = min(1.0, model.beta + 0.01)\n",
    "      print(f'Epoch {epoch+1}: Beta updated to {model.beta}')\n",
    "\n",
    "train_model(\n",
    "        model,\n",
    "        train_loader,\n",
    "        val_loader,\n",
    "        optimizer,\n",
    "        num_epochs,\n",
    "        device,\n",
    "        network_cfg['model_name'],\n",
    "        denorm_params=denorm_params,\n",
    "        model_update_fn=update_beta,  # Pass the model update function\n",
    "        generate_images_flag=True  # Enable image generation\n",
    "    )\n",
    "\n",
    "\n"
   ],
   "metadata": {
    "colab": {
     "base_uri": "https://localhost:8080/"
    },
    "id": "JCS2qxcG0JVg",
    "outputId": "169bfff5-dc53-4c0e-8927-fd755980ccb7"
   },
   "execution_count": 16,
   "outputs": [
    {
     "output_type": "stream",
     "name": "stdout",
     "text": [
      "Using device: cuda\n",
      "Files already downloaded and verified\n",
      "Epoch 1: Beta updated to 0.11\n"
     ]
    },
    {
     "output_type": "stream",
     "name": "stderr",
     "text": [
      "Training Epoch 1/60: 100%|██████████| 625/625 [00:06<00:00, 93.18it/s, Loss=1.62e+3] \n"
     ]
    },
    {
     "output_type": "stream",
     "name": "stdout",
     "text": [
      "Epoch [1/60], Training Loss: 1792.963582, Validation Loss: 350.063323\n",
      "Best model saved with validation loss: 350.063323\n",
      "Epoch 2: Beta updated to 0.12\n"
     ]
    },
    {
     "output_type": "stream",
     "name": "stderr",
     "text": [
      "Training Epoch 2/60: 100%|██████████| 625/625 [00:07<00:00, 88.69it/s, Loss=1.64e+3]\n"
     ]
    },
    {
     "output_type": "stream",
     "name": "stdout",
     "text": [
      "Epoch [2/60], Training Loss: 1390.592089, Validation Loss: 321.230014\n",
      "Best model saved with validation loss: 321.230014\n",
      "Epoch 3: Beta updated to 0.13\n"
     ]
    },
    {
     "output_type": "stream",
     "name": "stderr",
     "text": [
      "Training Epoch 3/60: 100%|██████████| 625/625 [00:06<00:00, 94.28it/s, Loss=1.8e+3]\n"
     ]
    },
    {
     "output_type": "stream",
     "name": "stdout",
     "text": [
      "Epoch [3/60], Training Loss: 1318.118166, Validation Loss: 310.024019\n",
      "Best model saved with validation loss: 310.024019\n",
      "Epoch 4: Beta updated to 0.14\n"
     ]
    },
    {
     "output_type": "stream",
     "name": "stderr",
     "text": [
      "Training Epoch 4/60: 100%|██████████| 625/625 [00:06<00:00, 91.91it/s, Loss=1.42e+3]\n"
     ]
    },
    {
     "output_type": "stream",
     "name": "stdout",
     "text": [
      "Epoch [4/60], Training Loss: 1276.304425, Validation Loss: 308.162161\n",
      "Best model saved with validation loss: 308.162161\n",
      "Epoch 5: Beta updated to 0.15000000000000002\n"
     ]
    },
    {
     "output_type": "stream",
     "name": "stderr",
     "text": [
      "Training Epoch 5/60: 100%|██████████| 625/625 [00:06<00:00, 92.99it/s, Loss=1.55e+3]\n"
     ]
    },
    {
     "output_type": "stream",
     "name": "stdout",
     "text": [
      "Epoch [5/60], Training Loss: 1248.597541, Validation Loss: 296.591556\n",
      "Best model saved with validation loss: 296.591556\n",
      "Epoch 6: Beta updated to 0.16000000000000003\n"
     ]
    },
    {
     "output_type": "stream",
     "name": "stderr",
     "text": [
      "Training Epoch 6/60: 100%|██████████| 625/625 [00:06<00:00, 90.55it/s, Loss=1.56e+3] \n"
     ]
    },
    {
     "output_type": "stream",
     "name": "stdout",
     "text": [
      "Epoch [6/60], Training Loss: 1229.575286, Validation Loss: 292.790850\n",
      "Best model saved with validation loss: 292.790850\n",
      "Epoch 7: Beta updated to 0.17000000000000004\n"
     ]
    },
    {
     "output_type": "stream",
     "name": "stderr",
     "text": [
      "Training Epoch 7/60: 100%|██████████| 625/625 [00:06<00:00, 96.06it/s, Loss=1.55e+3]\n"
     ]
    },
    {
     "output_type": "stream",
     "name": "stdout",
     "text": [
      "Epoch [7/60], Training Loss: 1215.100085, Validation Loss: 289.279691\n",
      "Best model saved with validation loss: 289.279691\n",
      "Epoch 8: Beta updated to 0.18000000000000005\n"
     ]
    },
    {
     "output_type": "stream",
     "name": "stderr",
     "text": [
      "Training Epoch 8/60: 100%|██████████| 625/625 [00:06<00:00, 95.00it/s, Loss=1.51e+3] \n"
     ]
    },
    {
     "output_type": "stream",
     "name": "stdout",
     "text": [
      "Epoch [8/60], Training Loss: 1203.344316, Validation Loss: 288.963236\n",
      "Best model saved with validation loss: 288.963236\n",
      "Epoch 9: Beta updated to 0.19000000000000006\n"
     ]
    },
    {
     "output_type": "stream",
     "name": "stderr",
     "text": [
      "Training Epoch 9/60: 100%|██████████| 625/625 [00:06<00:00, 97.60it/s, Loss=1.59e+3] \n"
     ]
    },
    {
     "output_type": "stream",
     "name": "stdout",
     "text": [
      "Epoch [9/60], Training Loss: 1193.710011, Validation Loss: 284.840397\n",
      "Best model saved with validation loss: 284.840397\n",
      "Epoch 10: Beta updated to 0.20000000000000007\n"
     ]
    },
    {
     "output_type": "stream",
     "name": "stderr",
     "text": [
      "Training Epoch 10/60: 100%|██████████| 625/625 [00:06<00:00, 95.05it/s, Loss=1.47e+3] \n"
     ]
    },
    {
     "output_type": "stream",
     "name": "stdout",
     "text": [
      "Epoch [10/60], Training Loss: 1182.307424, Validation Loss: 282.640608\n",
      "Best model saved with validation loss: 282.640608\n",
      "Epoch 11: Beta updated to 0.21000000000000008\n"
     ]
    },
    {
     "output_type": "stream",
     "name": "stderr",
     "text": [
      "Training Epoch 11/60: 100%|██████████| 625/625 [00:06<00:00, 95.34it/s, Loss=1.54e+3] \n"
     ]
    },
    {
     "output_type": "stream",
     "name": "stdout",
     "text": [
      "Epoch [11/60], Training Loss: 1174.716465, Validation Loss: 280.366283\n",
      "Best model saved with validation loss: 280.366283\n",
      "Epoch 12: Beta updated to 0.22000000000000008\n"
     ]
    },
    {
     "output_type": "stream",
     "name": "stderr",
     "text": [
      "Training Epoch 12/60: 100%|██████████| 625/625 [00:06<00:00, 95.27it/s, Loss=1.21e+3]\n"
     ]
    },
    {
     "output_type": "stream",
     "name": "stdout",
     "text": [
      "Epoch [12/60], Training Loss: 1162.902024, Validation Loss: 279.147997\n",
      "Best model saved with validation loss: 279.147997\n",
      "Epoch 13: Beta updated to 0.2300000000000001\n"
     ]
    },
    {
     "output_type": "stream",
     "name": "stderr",
     "text": [
      "Training Epoch 13/60: 100%|██████████| 625/625 [00:06<00:00, 96.43it/s, Loss=1.42e+3]\n"
     ]
    },
    {
     "output_type": "stream",
     "name": "stdout",
     "text": [
      "Epoch [13/60], Training Loss: 1156.106487, Validation Loss: 277.551952\n",
      "Best model saved with validation loss: 277.551952\n",
      "Epoch 14: Beta updated to 0.2400000000000001\n"
     ]
    },
    {
     "output_type": "stream",
     "name": "stderr",
     "text": [
      "Training Epoch 14/60: 100%|██████████| 625/625 [00:06<00:00, 94.34it/s, Loss=1.47e+3]\n"
     ]
    },
    {
     "output_type": "stream",
     "name": "stdout",
     "text": [
      "Epoch [14/60], Training Loss: 1149.917833, Validation Loss: 275.149014\n",
      "Best model saved with validation loss: 275.149014\n",
      "Epoch 15: Beta updated to 0.2500000000000001\n"
     ]
    },
    {
     "output_type": "stream",
     "name": "stderr",
     "text": [
      "Training Epoch 15/60: 100%|██████████| 625/625 [00:06<00:00, 95.38it/s, Loss=1.45e+3]\n"
     ]
    },
    {
     "output_type": "stream",
     "name": "stdout",
     "text": [
      "Epoch [15/60], Training Loss: 1144.312834, Validation Loss: 273.230782\n",
      "Best model saved with validation loss: 273.230782\n",
      "Epoch 16: Beta updated to 0.2600000000000001\n"
     ]
    },
    {
     "output_type": "stream",
     "name": "stderr",
     "text": [
      "Training Epoch 16/60: 100%|██████████| 625/625 [00:06<00:00, 96.58it/s, Loss=1.37e+3]\n"
     ]
    },
    {
     "output_type": "stream",
     "name": "stdout",
     "text": [
      "Epoch [16/60], Training Loss: 1138.611819, Validation Loss: 272.275215\n",
      "Best model saved with validation loss: 272.275215\n",
      "Epoch 17: Beta updated to 0.27000000000000013\n"
     ]
    },
    {
     "output_type": "stream",
     "name": "stderr",
     "text": [
      "Training Epoch 17/60: 100%|██████████| 625/625 [00:06<00:00, 92.80it/s, Loss=1.64e+3]\n"
     ]
    },
    {
     "output_type": "stream",
     "name": "stdout",
     "text": [
      "Epoch [17/60], Training Loss: 1132.927209, Validation Loss: 271.775468\n",
      "Best model saved with validation loss: 271.775468\n",
      "Epoch 18: Beta updated to 0.28000000000000014\n"
     ]
    },
    {
     "output_type": "stream",
     "name": "stderr",
     "text": [
      "Training Epoch 18/60: 100%|██████████| 625/625 [00:06<00:00, 92.35it/s, Loss=1.84e+3]\n"
     ]
    },
    {
     "output_type": "stream",
     "name": "stdout",
     "text": [
      "Epoch [18/60], Training Loss: 1127.065663, Validation Loss: 269.110020\n",
      "Best model saved with validation loss: 269.110020\n",
      "Epoch 19: Beta updated to 0.29000000000000015\n"
     ]
    },
    {
     "output_type": "stream",
     "name": "stderr",
     "text": [
      "Training Epoch 19/60: 100%|██████████| 625/625 [00:06<00:00, 91.77it/s, Loss=1.18e+3]\n"
     ]
    },
    {
     "output_type": "stream",
     "name": "stdout",
     "text": [
      "Epoch [19/60], Training Loss: 1121.961244, Validation Loss: 268.821640\n",
      "Best model saved with validation loss: 268.821640\n",
      "Epoch 20: Beta updated to 0.30000000000000016\n"
     ]
    },
    {
     "output_type": "stream",
     "name": "stderr",
     "text": [
      "Training Epoch 20/60: 100%|██████████| 625/625 [00:06<00:00, 95.21it/s, Loss=1.15e+3] \n"
     ]
    },
    {
     "output_type": "stream",
     "name": "stdout",
     "text": [
      "Epoch [20/60], Training Loss: 1115.985322, Validation Loss: 267.336925\n",
      "Best model saved with validation loss: 267.336925\n",
      "Epoch 21: Beta updated to 0.31000000000000016\n"
     ]
    },
    {
     "output_type": "stream",
     "name": "stderr",
     "text": [
      "Training Epoch 21/60: 100%|██████████| 625/625 [00:06<00:00, 95.57it/s, Loss=1.21e+3]\n"
     ]
    },
    {
     "output_type": "stream",
     "name": "stdout",
     "text": [
      "Epoch [21/60], Training Loss: 1111.151863, Validation Loss: 266.226794\n",
      "Best model saved with validation loss: 266.226794\n",
      "Epoch 22: Beta updated to 0.3200000000000002\n"
     ]
    },
    {
     "output_type": "stream",
     "name": "stderr",
     "text": [
      "Training Epoch 22/60: 100%|██████████| 625/625 [00:06<00:00, 95.92it/s, Loss=1.38e+3]\n"
     ]
    },
    {
     "output_type": "stream",
     "name": "stdout",
     "text": [
      "Epoch [22/60], Training Loss: 1107.307302, Validation Loss: 265.175874\n",
      "Best model saved with validation loss: 265.175874\n",
      "Epoch 23: Beta updated to 0.3300000000000002\n"
     ]
    },
    {
     "output_type": "stream",
     "name": "stderr",
     "text": [
      "Training Epoch 23/60: 100%|██████████| 625/625 [00:06<00:00, 91.67it/s, Loss=1.3e+3] \n"
     ]
    },
    {
     "output_type": "stream",
     "name": "stdout",
     "text": [
      "Epoch [23/60], Training Loss: 1105.008224, Validation Loss: 265.195313\n",
      "Epoch 24: Beta updated to 0.3400000000000002\n"
     ]
    },
    {
     "output_type": "stream",
     "name": "stderr",
     "text": [
      "Training Epoch 24/60: 100%|██████████| 625/625 [00:06<00:00, 92.38it/s, Loss=1.5e+3]\n"
     ]
    },
    {
     "output_type": "stream",
     "name": "stdout",
     "text": [
      "Epoch [24/60], Training Loss: 1100.910791, Validation Loss: 263.359835\n",
      "Best model saved with validation loss: 263.359835\n",
      "Epoch 25: Beta updated to 0.3500000000000002\n"
     ]
    },
    {
     "output_type": "stream",
     "name": "stderr",
     "text": [
      "Training Epoch 25/60: 100%|██████████| 625/625 [00:06<00:00, 95.98it/s, Loss=1.41e+3]\n"
     ]
    },
    {
     "output_type": "stream",
     "name": "stdout",
     "text": [
      "Epoch [25/60], Training Loss: 1097.996033, Validation Loss: 262.953198\n",
      "Best model saved with validation loss: 262.953198\n",
      "Epoch 26: Beta updated to 0.3600000000000002\n"
     ]
    },
    {
     "output_type": "stream",
     "name": "stderr",
     "text": [
      "Training Epoch 26/60: 100%|██████████| 625/625 [00:06<00:00, 97.38it/s, Loss=1.39e+3] \n"
     ]
    },
    {
     "output_type": "stream",
     "name": "stdout",
     "text": [
      "Epoch [26/60], Training Loss: 1095.929873, Validation Loss: 262.410909\n",
      "Best model saved with validation loss: 262.410909\n",
      "Epoch 27: Beta updated to 0.3700000000000002\n"
     ]
    },
    {
     "output_type": "stream",
     "name": "stderr",
     "text": [
      "Training Epoch 27/60: 100%|██████████| 625/625 [00:07<00:00, 88.23it/s, Loss=1.53e+3]\n"
     ]
    },
    {
     "output_type": "stream",
     "name": "stdout",
     "text": [
      "Epoch [27/60], Training Loss: 1092.947161, Validation Loss: 261.849397\n",
      "Best model saved with validation loss: 261.849397\n",
      "Epoch 28: Beta updated to 0.3800000000000002\n"
     ]
    },
    {
     "output_type": "stream",
     "name": "stderr",
     "text": [
      "Training Epoch 28/60: 100%|██████████| 625/625 [00:06<00:00, 95.80it/s, Loss=1.4e+3]\n"
     ]
    },
    {
     "output_type": "stream",
     "name": "stdout",
     "text": [
      "Epoch [28/60], Training Loss: 1091.510679, Validation Loss: 261.229088\n",
      "Best model saved with validation loss: 261.229088\n",
      "Epoch 29: Beta updated to 0.39000000000000024\n"
     ]
    },
    {
     "output_type": "stream",
     "name": "stderr",
     "text": [
      "Training Epoch 29/60: 100%|██████████| 625/625 [00:06<00:00, 97.36it/s, Loss=1.34e+3] \n"
     ]
    },
    {
     "output_type": "stream",
     "name": "stdout",
     "text": [
      "Epoch [29/60], Training Loss: 1089.806367, Validation Loss: 260.811802\n",
      "Best model saved with validation loss: 260.811802\n",
      "Epoch 30: Beta updated to 0.40000000000000024\n"
     ]
    },
    {
     "output_type": "stream",
     "name": "stderr",
     "text": [
      "Training Epoch 30/60: 100%|██████████| 625/625 [00:06<00:00, 92.65it/s, Loss=1.34e+3]\n"
     ]
    },
    {
     "output_type": "stream",
     "name": "stdout",
     "text": [
      "Epoch [30/60], Training Loss: 1088.449681, Validation Loss: 260.968557\n",
      "Epoch 31: Beta updated to 0.41000000000000025\n"
     ]
    },
    {
     "output_type": "stream",
     "name": "stderr",
     "text": [
      "Training Epoch 31/60: 100%|██████████| 625/625 [00:06<00:00, 89.55it/s, Loss=1.33e+3]\n"
     ]
    },
    {
     "output_type": "stream",
     "name": "stdout",
     "text": [
      "Epoch [31/60], Training Loss: 1086.404313, Validation Loss: 260.372974\n",
      "Best model saved with validation loss: 260.372974\n",
      "Epoch 32: Beta updated to 0.42000000000000026\n"
     ]
    },
    {
     "output_type": "stream",
     "name": "stderr",
     "text": [
      "Training Epoch 32/60: 100%|██████████| 625/625 [00:06<00:00, 94.99it/s, Loss=1.48e+3] \n"
     ]
    },
    {
     "output_type": "stream",
     "name": "stdout",
     "text": [
      "Epoch [32/60], Training Loss: 1085.811161, Validation Loss: 260.286489\n",
      "Best model saved with validation loss: 260.286489\n",
      "Epoch 33: Beta updated to 0.43000000000000027\n"
     ]
    },
    {
     "output_type": "stream",
     "name": "stderr",
     "text": [
      "Training Epoch 33/60: 100%|██████████| 625/625 [00:06<00:00, 93.95it/s, Loss=1.37e+3]\n"
     ]
    },
    {
     "output_type": "stream",
     "name": "stdout",
     "text": [
      "Epoch [33/60], Training Loss: 1083.953744, Validation Loss: 259.481981\n",
      "Best model saved with validation loss: 259.481981\n",
      "Epoch 34: Beta updated to 0.4400000000000003\n"
     ]
    },
    {
     "output_type": "stream",
     "name": "stderr",
     "text": [
      "Training Epoch 34/60: 100%|██████████| 625/625 [00:06<00:00, 92.75it/s, Loss=1.26e+3]\n"
     ]
    },
    {
     "output_type": "stream",
     "name": "stdout",
     "text": [
      "Epoch [34/60], Training Loss: 1083.830710, Validation Loss: 259.528225\n",
      "Epoch 35: Beta updated to 0.4500000000000003\n"
     ]
    },
    {
     "output_type": "stream",
     "name": "stderr",
     "text": [
      "Training Epoch 35/60: 100%|██████████| 625/625 [00:06<00:00, 95.99it/s, Loss=1.14e+3] \n"
     ]
    },
    {
     "output_type": "stream",
     "name": "stdout",
     "text": [
      "Epoch [35/60], Training Loss: 1083.412944, Validation Loss: 259.160446\n",
      "Best model saved with validation loss: 259.160446\n",
      "Epoch 36: Beta updated to 0.4600000000000003\n"
     ]
    },
    {
     "output_type": "stream",
     "name": "stderr",
     "text": [
      "Training Epoch 36/60: 100%|██████████| 625/625 [00:06<00:00, 90.60it/s, Loss=1.29e+3]\n"
     ]
    },
    {
     "output_type": "stream",
     "name": "stdout",
     "text": [
      "Epoch [36/60], Training Loss: 1082.203839, Validation Loss: 259.141300\n",
      "Best model saved with validation loss: 259.141300\n",
      "Epoch 37: Beta updated to 0.4700000000000003\n"
     ]
    },
    {
     "output_type": "stream",
     "name": "stderr",
     "text": [
      "Training Epoch 37/60: 100%|██████████| 625/625 [00:06<00:00, 93.50it/s, Loss=1.38e+3]\n"
     ]
    },
    {
     "output_type": "stream",
     "name": "stdout",
     "text": [
      "Epoch [37/60], Training Loss: 1081.710182, Validation Loss: 258.995482\n",
      "Best model saved with validation loss: 258.995482\n",
      "Epoch 38: Beta updated to 0.4800000000000003\n"
     ]
    },
    {
     "output_type": "stream",
     "name": "stderr",
     "text": [
      "Training Epoch 38/60: 100%|██████████| 625/625 [00:06<00:00, 96.21it/s, Loss=1.32e+3]\n"
     ]
    },
    {
     "output_type": "stream",
     "name": "stdout",
     "text": [
      "Epoch [38/60], Training Loss: 1081.551394, Validation Loss: 258.864422\n",
      "Best model saved with validation loss: 258.864422\n",
      "Epoch 39: Beta updated to 0.4900000000000003\n"
     ]
    },
    {
     "output_type": "stream",
     "name": "stderr",
     "text": [
      "Training Epoch 39/60: 100%|██████████| 625/625 [00:06<00:00, 95.78it/s, Loss=1.4e+3]\n"
     ]
    },
    {
     "output_type": "stream",
     "name": "stdout",
     "text": [
      "Epoch [39/60], Training Loss: 1081.111835, Validation Loss: 258.392964\n",
      "Best model saved with validation loss: 258.392964\n",
      "Epoch 40: Beta updated to 0.5000000000000003\n"
     ]
    },
    {
     "output_type": "stream",
     "name": "stderr",
     "text": [
      "Training Epoch 40/60: 100%|██████████| 625/625 [00:07<00:00, 88.37it/s, Loss=1.56e+3] \n"
     ]
    },
    {
     "output_type": "stream",
     "name": "stdout",
     "text": [
      "Epoch [40/60], Training Loss: 1081.263440, Validation Loss: 258.889877\n",
      "Epoch 41: Beta updated to 0.5100000000000003\n"
     ]
    },
    {
     "output_type": "stream",
     "name": "stderr",
     "text": [
      "Training Epoch 41/60: 100%|██████████| 625/625 [00:06<00:00, 94.17it/s, Loss=1.26e+3]\n"
     ]
    },
    {
     "output_type": "stream",
     "name": "stdout",
     "text": [
      "Epoch [41/60], Training Loss: 1080.867671, Validation Loss: 258.877299\n",
      "Epoch 42: Beta updated to 0.5200000000000004\n"
     ]
    },
    {
     "output_type": "stream",
     "name": "stderr",
     "text": [
      "Training Epoch 42/60: 100%|██████████| 625/625 [00:06<00:00, 96.02it/s, Loss=1.41e+3]\n"
     ]
    },
    {
     "output_type": "stream",
     "name": "stdout",
     "text": [
      "Epoch [42/60], Training Loss: 1081.162142, Validation Loss: 258.975334\n",
      "Epoch 43: Beta updated to 0.5300000000000004\n"
     ]
    },
    {
     "output_type": "stream",
     "name": "stderr",
     "text": [
      "Training Epoch 43/60: 100%|██████████| 625/625 [00:06<00:00, 92.32it/s, Loss=1.38e+3]\n"
     ]
    },
    {
     "output_type": "stream",
     "name": "stdout",
     "text": [
      "Epoch [43/60], Training Loss: 1081.072014, Validation Loss: 259.341454\n",
      "Epoch 44: Beta updated to 0.5400000000000004\n"
     ]
    },
    {
     "output_type": "stream",
     "name": "stderr",
     "text": [
      "Training Epoch 44/60: 100%|██████████| 625/625 [00:06<00:00, 96.80it/s, Loss=1.28e+3]\n"
     ]
    },
    {
     "output_type": "stream",
     "name": "stdout",
     "text": [
      "Epoch [44/60], Training Loss: 1082.022328, Validation Loss: 258.762347\n",
      "Epoch 45: Beta updated to 0.5500000000000004\n"
     ]
    },
    {
     "output_type": "stream",
     "name": "stderr",
     "text": [
      "Training Epoch 45/60: 100%|██████████| 625/625 [00:06<00:00, 95.59it/s, Loss=1.38e+3]\n"
     ]
    },
    {
     "output_type": "stream",
     "name": "stdout",
     "text": [
      "Epoch [45/60], Training Loss: 1081.779839, Validation Loss: 258.309580\n",
      "Best model saved with validation loss: 258.309580\n",
      "Epoch 46: Beta updated to 0.5600000000000004\n"
     ]
    },
    {
     "output_type": "stream",
     "name": "stderr",
     "text": [
      "Training Epoch 46/60: 100%|██████████| 625/625 [00:06<00:00, 94.57it/s, Loss=1.54e+3] \n"
     ]
    },
    {
     "output_type": "stream",
     "name": "stdout",
     "text": [
      "Epoch [46/60], Training Loss: 1081.918795, Validation Loss: 258.817282\n",
      "Epoch 47: Beta updated to 0.5700000000000004\n"
     ]
    },
    {
     "output_type": "stream",
     "name": "stderr",
     "text": [
      "Training Epoch 47/60: 100%|██████████| 625/625 [00:06<00:00, 92.50it/s, Loss=1.22e+3]\n"
     ]
    },
    {
     "output_type": "stream",
     "name": "stdout",
     "text": [
      "Epoch [47/60], Training Loss: 1081.820750, Validation Loss: 258.653949\n",
      "Epoch 48: Beta updated to 0.5800000000000004\n"
     ]
    },
    {
     "output_type": "stream",
     "name": "stderr",
     "text": [
      "Training Epoch 48/60: 100%|██████████| 625/625 [00:06<00:00, 97.81it/s, Loss=1.29e+3]\n"
     ]
    },
    {
     "output_type": "stream",
     "name": "stdout",
     "text": [
      "Epoch [48/60], Training Loss: 1082.356348, Validation Loss: 258.351656\n",
      "Epoch 49: Beta updated to 0.5900000000000004\n"
     ]
    },
    {
     "output_type": "stream",
     "name": "stderr",
     "text": [
      "Training Epoch 49/60: 100%|██████████| 625/625 [00:07<00:00, 88.57it/s, Loss=1.24e+3]\n"
     ]
    },
    {
     "output_type": "stream",
     "name": "stdout",
     "text": [
      "Epoch [49/60], Training Loss: 1082.476039, Validation Loss: 258.519596\n",
      "Epoch 50: Beta updated to 0.6000000000000004\n"
     ]
    },
    {
     "output_type": "stream",
     "name": "stderr",
     "text": [
      "Training Epoch 50/60: 100%|██████████| 625/625 [00:06<00:00, 92.73it/s, Loss=1.36e+3]\n"
     ]
    },
    {
     "output_type": "stream",
     "name": "stdout",
     "text": [
      "Epoch [50/60], Training Loss: 1083.112811, Validation Loss: 259.349946\n",
      "Epoch 51: Beta updated to 0.6100000000000004\n"
     ]
    },
    {
     "output_type": "stream",
     "name": "stderr",
     "text": [
      "Training Epoch 51/60: 100%|██████████| 625/625 [00:06<00:00, 96.25it/s, Loss=1.38e+3] \n"
     ]
    },
    {
     "output_type": "stream",
     "name": "stdout",
     "text": [
      "Epoch [51/60], Training Loss: 1083.754686, Validation Loss: 259.127646\n",
      "Epoch 52: Beta updated to 0.6200000000000004\n"
     ]
    },
    {
     "output_type": "stream",
     "name": "stderr",
     "text": [
      "Training Epoch 52/60: 100%|██████████| 625/625 [00:06<00:00, 92.46it/s, Loss=1.4e+3]\n"
     ]
    },
    {
     "output_type": "stream",
     "name": "stdout",
     "text": [
      "Epoch [52/60], Training Loss: 1079.462264, Validation Loss: 257.829090\n",
      "Best model saved with validation loss: 257.829090\n",
      "Epoch 53: Beta updated to 0.6300000000000004\n"
     ]
    },
    {
     "output_type": "stream",
     "name": "stderr",
     "text": [
      "Training Epoch 53/60: 100%|██████████| 625/625 [00:07<00:00, 87.08it/s, Loss=1.24e+3]\n"
     ]
    },
    {
     "output_type": "stream",
     "name": "stdout",
     "text": [
      "Epoch [53/60], Training Loss: 1079.738621, Validation Loss: 258.170401\n",
      "Epoch 54: Beta updated to 0.6400000000000005\n"
     ]
    },
    {
     "output_type": "stream",
     "name": "stderr",
     "text": [
      "Training Epoch 54/60: 100%|██████████| 625/625 [00:06<00:00, 93.98it/s, Loss=1.17e+3]\n"
     ]
    },
    {
     "output_type": "stream",
     "name": "stdout",
     "text": [
      "Epoch [54/60], Training Loss: 1080.809569, Validation Loss: 258.083554\n",
      "Epoch 55: Beta updated to 0.6500000000000005\n"
     ]
    },
    {
     "output_type": "stream",
     "name": "stderr",
     "text": [
      "Training Epoch 55/60: 100%|██████████| 625/625 [00:06<00:00, 95.65it/s, Loss=1.28e+3]\n"
     ]
    },
    {
     "output_type": "stream",
     "name": "stdout",
     "text": [
      "Epoch [55/60], Training Loss: 1081.497329, Validation Loss: 258.521548\n",
      "Epoch 56: Beta updated to 0.6600000000000005\n"
     ]
    },
    {
     "output_type": "stream",
     "name": "stderr",
     "text": [
      "Training Epoch 56/60: 100%|██████████| 625/625 [00:06<00:00, 94.56it/s, Loss=1.45e+3]\n"
     ]
    },
    {
     "output_type": "stream",
     "name": "stdout",
     "text": [
      "Epoch [56/60], Training Loss: 1081.958985, Validation Loss: 258.804418\n",
      "Epoch 57: Beta updated to 0.6700000000000005\n"
     ]
    },
    {
     "output_type": "stream",
     "name": "stderr",
     "text": [
      "Training Epoch 57/60: 100%|██████████| 625/625 [00:06<00:00, 93.98it/s, Loss=1.47e+3]\n"
     ]
    },
    {
     "output_type": "stream",
     "name": "stdout",
     "text": [
      "Epoch [57/60], Training Loss: 1082.888793, Validation Loss: 259.253064\n",
      "Epoch 58: Beta updated to 0.6800000000000005\n"
     ]
    },
    {
     "output_type": "stream",
     "name": "stderr",
     "text": [
      "Training Epoch 58/60: 100%|██████████| 625/625 [00:06<00:00, 94.27it/s, Loss=1.1e+3]\n"
     ]
    },
    {
     "output_type": "stream",
     "name": "stdout",
     "text": [
      "Epoch [58/60], Training Loss: 1083.731360, Validation Loss: 259.325376\n",
      "Epoch 59: Beta updated to 0.6900000000000005\n"
     ]
    },
    {
     "output_type": "stream",
     "name": "stderr",
     "text": [
      "Training Epoch 59/60: 100%|██████████| 625/625 [00:06<00:00, 92.13it/s, Loss=1.32e+3]\n"
     ]
    },
    {
     "output_type": "stream",
     "name": "stdout",
     "text": [
      "Epoch [59/60], Training Loss: 1082.415708, Validation Loss: 258.868660\n",
      "Epoch 60: Beta updated to 0.7000000000000005\n"
     ]
    },
    {
     "output_type": "stream",
     "name": "stderr",
     "text": [
      "Training Epoch 60/60: 100%|██████████| 625/625 [00:06<00:00, 92.57it/s, Loss=1.43e+3]\n"
     ]
    },
    {
     "output_type": "stream",
     "name": "stdout",
     "text": [
      "Epoch [60/60], Training Loss: 1082.769494, Validation Loss: 258.932120\n"
     ]
    }
   ]
  },
  {
   "cell_type": "code",
   "source": [
    "from PIL import Image\n",
    "\n",
    "image_path = \"/content/images/conv_vae/reconstructions_epoch_60.png\"\n",
    "image = Image.open(image_path)\n",
    "\n",
    "image"
   ],
   "metadata": {
    "colab": {
     "base_uri": "https://localhost:8080/",
     "height": 155
    },
    "id": "dKmTZbgyizbs",
    "outputId": "c62b8258-852e-4e4e-ab4b-335a9b9cd365"
   },
   "execution_count": 17,
   "outputs": [
    {
     "output_type": "execute_result",
     "data": {
      "text/plain": [
       "<PIL.PngImagePlugin.PngImageFile image mode=RGB size=266x138>"
      ],
      "image/png": "[encoded data removed]",
      "image/jpeg": "[encoded data removed]"
     },
     "metadata": {},
     "execution_count": 17
    }
   ]
  },
  {
   "cell_type": "code",
   "source": [
    "from PIL import Image\n",
    "\n",
    "image_path = \"/content/images/conv_vae/generated_epoch_25.png\"\n",
    "image = Image.open(image_path)\n",
    "\n",
    "image"
   ],
   "metadata": {
    "colab": {
     "base_uri": "https://localhost:8080/",
     "height": 155
    },
    "id": "cfu8SYDM0JmL",
    "outputId": "efc231dd-86a3-41ed-d0ab-f181b6ba35cc"
   },
   "execution_count": 19,
   "outputs": [
    {
     "output_type": "execute_result",
     "data": {
      "text/plain": [
       "<PIL.PngImagePlugin.PngImageFile image mode=RGB size=138x138>"
      ],
      "image/png": "[encoded data removed]",
      "image/jpeg": "[encoded data removed]"
     },
     "metadata": {},
     "execution_count": 19
    }
   ]
  },
  {
   "cell_type": "code",
   "source": [],
   "metadata": {
    "id": "vRpQuMO43of9"
   },
   "execution_count": null,
   "outputs": []
  }
 ]
}
