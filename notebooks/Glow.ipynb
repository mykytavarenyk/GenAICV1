{
 "nbformat": 4,
 "nbformat_minor": 0,
 "metadata": {
  "colab": {
   "provenance": [],
   "machine_shape": "hm",
   "gpuType": "A100"
  },
  "kernelspec": {
   "name": "python3",
   "display_name": "Python 3"
  },
  "language_info": {
   "name": "python"
  },
  "accelerator": "GPU"
 },
 "cells": [
  {
   "cell_type": "code",
   "execution_count": 2,
   "metadata": {
    "colab": {
     "base_uri": "https://localhost:8080/"
    },
    "id": "bzrqHcoj4NFG",
    "outputId": "5d69ae3b-f1f1-441e-ae1d-5a78c619abab"
   },
   "outputs": [
    {
     "output_type": "stream",
     "name": "stdout",
     "text": [
      "Requirement already satisfied: torch in /usr/local/lib/python3.10/dist-packages (2.5.1+cu121)\n",
      "Requirement already satisfied: torchvision in /usr/local/lib/python3.10/dist-packages (0.20.1+cu121)\n",
      "Requirement already satisfied: tensorboard in /usr/local/lib/python3.10/dist-packages (2.17.1)\n",
      "Requirement already satisfied: tqdm in /usr/local/lib/python3.10/dist-packages (4.66.6)\n",
      "Requirement already satisfied: matplotlib in /usr/local/lib/python3.10/dist-packages (3.8.0)\n",
      "Requirement already satisfied: numpy in /usr/local/lib/python3.10/dist-packages (1.26.4)\n",
      "Requirement already satisfied: filelock in /usr/local/lib/python3.10/dist-packages (from torch) (3.16.1)\n",
      "Requirement already satisfied: typing-extensions>=4.8.0 in /usr/local/lib/python3.10/dist-packages (from torch) (4.12.2)\n",
      "Requirement already satisfied: networkx in /usr/local/lib/python3.10/dist-packages (from torch) (3.4.2)\n",
      "Requirement already satisfied: jinja2 in /usr/local/lib/python3.10/dist-packages (from torch) (3.1.4)\n",
      "Requirement already satisfied: fsspec in /usr/local/lib/python3.10/dist-packages (from torch) (2024.10.0)\n",
      "Requirement already satisfied: sympy==1.13.1 in /usr/local/lib/python3.10/dist-packages (from torch) (1.13.1)\n",
      "Requirement already satisfied: mpmath<1.4,>=1.1.0 in /usr/local/lib/python3.10/dist-packages (from sympy==1.13.1->torch) (1.3.0)\n",
      "Requirement already satisfied: pillow!=8.3.*,>=5.3.0 in /usr/local/lib/python3.10/dist-packages (from torchvision) (11.0.0)\n",
      "Requirement already satisfied: absl-py>=0.4 in /usr/local/lib/python3.10/dist-packages (from tensorboard) (1.4.0)\n",
      "Requirement already satisfied: grpcio>=1.48.2 in /usr/local/lib/python3.10/dist-packages (from tensorboard) (1.68.1)\n",
      "Requirement already satisfied: markdown>=2.6.8 in /usr/local/lib/python3.10/dist-packages (from tensorboard) (3.7)\n",
      "Requirement already satisfied: packaging in /usr/local/lib/python3.10/dist-packages (from tensorboard) (24.2)\n",
      "Requirement already satisfied: protobuf!=4.24.0,>=3.19.6 in /usr/local/lib/python3.10/dist-packages (from tensorboard) (4.25.5)\n",
      "Requirement already satisfied: setuptools>=41.0.0 in /usr/local/lib/python3.10/dist-packages (from tensorboard) (75.1.0)\n",
      "Requirement already satisfied: six>1.9 in /usr/local/lib/python3.10/dist-packages (from tensorboard) (1.16.0)\n",
      "Requirement already satisfied: tensorboard-data-server<0.8.0,>=0.7.0 in /usr/local/lib/python3.10/dist-packages (from tensorboard) (0.7.2)\n",
      "Requirement already satisfied: werkzeug>=1.0.1 in /usr/local/lib/python3.10/dist-packages (from tensorboard) (3.1.3)\n",
      "Requirement already satisfied: contourpy>=1.0.1 in /usr/local/lib/python3.10/dist-packages (from matplotlib) (1.3.1)\n",
      "Requirement already satisfied: cycler>=0.10 in /usr/local/lib/python3.10/dist-packages (from matplotlib) (0.12.1)\n",
      "Requirement already satisfied: fonttools>=4.22.0 in /usr/local/lib/python3.10/dist-packages (from matplotlib) (4.55.0)\n",
      "Requirement already satisfied: kiwisolver>=1.0.1 in /usr/local/lib/python3.10/dist-packages (from matplotlib) (1.4.7)\n",
      "Requirement already satisfied: pyparsing>=2.3.1 in /usr/local/lib/python3.10/dist-packages (from matplotlib) (3.2.0)\n",
      "Requirement already satisfied: python-dateutil>=2.7 in /usr/local/lib/python3.10/dist-packages (from matplotlib) (2.8.2)\n",
      "Requirement already satisfied: MarkupSafe>=2.1.1 in /usr/local/lib/python3.10/dist-packages (from werkzeug>=1.0.1->tensorboard) (3.0.2)\n"
     ]
    }
   ],
   "source": [
    "!pip install torch torchvision tensorboard tqdm matplotlib numpy"
   ]
  },
  {
   "cell_type": "code",
   "outputs": [],
   "source": [
    "from data.datasets import get_cifar10_dataloaders \n",
    "from models.glow import Glow, PadChannel            \n",
    "from utils.train import train_model "
   ],
   "metadata": {
    "collapsed": false
   }
  },
  {
   "cell_type": "code",
   "source": [
    "import os\n",
    "import numpy as np\n",
    "import torch\n",
    "import torch.nn as nn\n",
    "import torch.nn.functional as F\n",
    "import torch.optim as optim\n",
    "import torchvision\n",
    "import torchvision.transforms as transforms\n",
    "from torch.utils.tensorboard import SummaryWriter\n",
    "from tqdm import tqdm\n",
    "from typing import Callable, Optional, Dict\n",
    "from enum import IntEnum\n",
    "\n",
    "    # Parameters\n",
    "batch_size = 64\n",
    "num_epochs = 20\n",
    "learning_rate = 0.001\n",
    "num_blocks = 8\n",
    "num_scales = 2  # Ensure that your image dimensions are compatible with num_scales\n",
    "num_channels = 4  # Updated to 4 channels after padding\n",
    "hidden_channels = 128  # Adjust as needed\n",
    "model_name = 'Glow'\n",
    "\n",
    "device = torch.device('cuda' if torch.cuda.is_available() else 'cpu')\n",
    "print(f'Using device: {device}')\n",
    "\n",
    "    # Data loading and preprocessing\n",
    "train_loader, val_loader, test_loader, denorm_params = get_cifar10_dataloaders(batch_size=batch_size)\n",
    "\n",
    "    # Model, loss function, optimizer\n",
    "model = Glow(num_scales=num_scales, num_blocks=num_blocks, num_channels=num_channels, hidden_channels=hidden_channels, device=device).to(device)\n",
    "optimizer = optim.Adam(model.parameters(), lr=learning_rate)\n",
    "\n",
    "    # TensorBoard writer\n",
    "writer = SummaryWriter(log_dir=f'logs/{model_name}')\n",
    "\n",
    "    # Directory to save generated images\n",
    "image_save_dir = f'images/{model_name}'\n",
    "os.makedirs(image_save_dir, exist_ok=True)\n",
    "\n",
    "    # Train the model using the training pipeline\n",
    "train_model(\n",
    "        model=model,\n",
    "        train_loader=train_loader,\n",
    "        val_loader=val_loader,\n",
    "        optimizer=optimizer,\n",
    "        num_epochs=num_epochs,\n",
    "        device=device,\n",
    "        model_name=model_name,\n",
    "        logger=writer,\n",
    "        save_best=True,\n",
    "        denorm_params=None,\n",
    "        model_update_fn=None,  \n",
    "        generate_images_flag=True\n",
    ")\n",
    "\n"
   ],
   "metadata": {
    "colab": {
     "base_uri": "https://localhost:8080/"
    },
    "id": "34kcVqzPLEiV",
    "outputId": "fce73bca-b557-4d2a-e02c-8d11857575e0"
   },
   "execution_count": 3,
   "outputs": [
    {
     "output_type": "stream",
     "name": "stdout",
     "text": [
      "Using device: cuda\n",
      "Files already downloaded and verified\n",
      "Files already downloaded and verified\n"
     ]
    },
    {
     "output_type": "stream",
     "name": "stderr",
     "text": [
      "Training Epoch 1/20: 100%|██████████| 782/782 [00:40<00:00, 19.54it/s, Loss=3.76e+3]\n"
     ]
    },
    {
     "output_type": "stream",
     "name": "stdout",
     "text": [
      "Epoch [1/20], Training Loss: 4123.593721, Validation Loss: 3758.884288\n",
      "Best model saved with validation loss: 3758.884288\n",
      "Generated images saved to images/Glow_CIFAR10/generated_epoch_1.png\n"
     ]
    },
    {
     "output_type": "stream",
     "name": "stderr",
     "text": [
      "Training Epoch 2/20: 100%|██████████| 782/782 [00:39<00:00, 19.96it/s, Loss=3.78e+3]\n"
     ]
    },
    {
     "output_type": "stream",
     "name": "stdout",
     "text": [
      "Epoch [2/20], Training Loss: 4676.453191, Validation Loss: 3776.272866\n"
     ]
    },
    {
     "output_type": "stream",
     "name": "stderr",
     "text": [
      "Training Epoch 3/20: 100%|██████████| 782/782 [00:39<00:00, 19.97it/s, Loss=3.77e+3]\n"
     ]
    },
    {
     "output_type": "stream",
     "name": "stdout",
     "text": [
      "Epoch [3/20], Training Loss: 3768.882883, Validation Loss: 3769.521919\n"
     ]
    },
    {
     "output_type": "stream",
     "name": "stderr",
     "text": [
      "Training Epoch 4/20: 100%|██████████| 782/782 [00:39<00:00, 19.89it/s, Loss=3.77e+3]\n",
      "/usr/local/lib/python3.10/dist-packages/torch/utils/tensorboard/summary.py:576: RuntimeWarning: invalid value encountered in cast\n",
      "  tensor = (tensor * scale_factor).clip(0, 255).astype(np.uint8)\n"
     ]
    },
    {
     "output_type": "stream",
     "name": "stdout",
     "text": [
      "Epoch [4/20], Training Loss: 3772.864012, Validation Loss: 3765.268890\n"
     ]
    },
    {
     "output_type": "stream",
     "name": "stderr",
     "text": [
      "Training Epoch 5/20: 100%|██████████| 782/782 [00:39<00:00, 19.98it/s, Loss=3.76e+3]\n"
     ]
    },
    {
     "output_type": "stream",
     "name": "stdout",
     "text": [
      "Epoch [5/20], Training Loss: 3764.395459, Validation Loss: 3763.456849\n"
     ]
    },
    {
     "output_type": "stream",
     "name": "stderr",
     "text": [
      "Training Epoch 6/20: 100%|██████████| 782/782 [00:39<00:00, 19.96it/s, Loss=3.76e+3]\n"
     ]
    },
    {
     "output_type": "stream",
     "name": "stdout",
     "text": [
      "Epoch [6/20], Training Loss: 3763.049057, Validation Loss: 3762.157241\n"
     ]
    },
    {
     "output_type": "stream",
     "name": "stderr",
     "text": [
      "Training Epoch 7/20: 100%|██████████| 782/782 [00:38<00:00, 20.06it/s, Loss=3.76e+3]\n"
     ]
    },
    {
     "output_type": "stream",
     "name": "stdout",
     "text": [
      "Epoch [7/20], Training Loss: 3761.947325, Validation Loss: 3760.749472\n"
     ]
    },
    {
     "output_type": "stream",
     "name": "stderr",
     "text": [
      "Training Epoch 8/20: 100%|██████████| 782/782 [00:39<00:00, 19.80it/s, Loss=3.76e+3]\n"
     ]
    },
    {
     "output_type": "stream",
     "name": "stdout",
     "text": [
      "Epoch [8/20], Training Loss: 3760.187578, Validation Loss: 3759.707964\n"
     ]
    },
    {
     "output_type": "stream",
     "name": "stderr",
     "text": [
      "Training Epoch 9/20: 100%|██████████| 782/782 [00:39<00:00, 20.03it/s, Loss=3.76e+3]\n"
     ]
    },
    {
     "output_type": "stream",
     "name": "stdout",
     "text": [
      "Epoch [9/20], Training Loss: 3759.221124, Validation Loss: 3758.404451\n",
      "Best model saved with validation loss: 3758.404451\n",
      "Generated images saved to images/Glow_CIFAR10/generated_epoch_9.png\n"
     ]
    },
    {
     "output_type": "stream",
     "name": "stderr",
     "text": [
      "Training Epoch 10/20: 100%|██████████| 782/782 [00:39<00:00, 19.92it/s, Loss=3.76e+3]\n"
     ]
    },
    {
     "output_type": "stream",
     "name": "stdout",
     "text": [
      "Epoch [10/20], Training Loss: 3761.432861, Validation Loss: 3757.884129\n",
      "Best model saved with validation loss: 3757.884129\n",
      "Generated images saved to images/Glow_CIFAR10/generated_epoch_10.png\n"
     ]
    },
    {
     "output_type": "stream",
     "name": "stderr",
     "text": [
      "Training Epoch 11/20: 100%|██████████| 782/782 [00:39<00:00, 19.83it/s, Loss=3.76e+3]\n"
     ]
    },
    {
     "output_type": "stream",
     "name": "stdout",
     "text": [
      "Epoch [11/20], Training Loss: 3756.755012, Validation Loss: 3756.618614\n",
      "Best model saved with validation loss: 3756.618614\n",
      "Generated images saved to images/Glow_CIFAR10/generated_epoch_11.png\n"
     ]
    },
    {
     "output_type": "stream",
     "name": "stderr",
     "text": [
      "Training Epoch 12/20: 100%|██████████| 782/782 [00:38<00:00, 20.21it/s, Loss=3.75e+3]\n"
     ]
    },
    {
     "output_type": "stream",
     "name": "stdout",
     "text": [
      "Epoch [12/20], Training Loss: 3754.793085, Validation Loss: 3752.730849\n",
      "Best model saved with validation loss: 3752.730849\n",
      "Generated images saved to images/Glow_CIFAR10/generated_epoch_12.png\n"
     ]
    },
    {
     "output_type": "stream",
     "name": "stderr",
     "text": [
      "Training Epoch 13/20: 100%|██████████| 782/782 [00:39<00:00, 19.90it/s, Loss=3.75e+3]\n"
     ]
    },
    {
     "output_type": "stream",
     "name": "stdout",
     "text": [
      "Epoch [13/20], Training Loss: 3751.540271, Validation Loss: 3749.567427\n",
      "Best model saved with validation loss: 3749.567427\n",
      "Generated images saved to images/Glow_CIFAR10/generated_epoch_13.png\n"
     ]
    },
    {
     "output_type": "stream",
     "name": "stderr",
     "text": [
      "Training Epoch 14/20: 100%|██████████| 782/782 [00:39<00:00, 19.88it/s, Loss=3.76e+3]\n"
     ]
    },
    {
     "output_type": "stream",
     "name": "stdout",
     "text": [
      "Epoch [14/20], Training Loss: 4097.971411, Validation Loss: 3757.130381\n"
     ]
    },
    {
     "output_type": "stream",
     "name": "stderr",
     "text": [
      "Training Epoch 15/20: 100%|██████████| 782/782 [00:39<00:00, 19.86it/s, Loss=3.75e+3]\n"
     ]
    },
    {
     "output_type": "stream",
     "name": "stdout",
     "text": [
      "Epoch [15/20], Training Loss: 3755.220400, Validation Loss: 3754.066998\n"
     ]
    },
    {
     "output_type": "stream",
     "name": "stderr",
     "text": [
      "Training Epoch 16/20: 100%|██████████| 782/782 [00:39<00:00, 19.79it/s, Loss=3.75e+3]\n"
     ]
    },
    {
     "output_type": "stream",
     "name": "stdout",
     "text": [
      "Epoch [16/20], Training Loss: 3754.330342, Validation Loss: 3753.284197\n"
     ]
    },
    {
     "output_type": "stream",
     "name": "stderr",
     "text": [
      "Training Epoch 17/20: 100%|██████████| 782/782 [00:39<00:00, 20.00it/s, Loss=3.75e+3]\n"
     ]
    },
    {
     "output_type": "stream",
     "name": "stdout",
     "text": [
      "Epoch [17/20], Training Loss: 3752.839672, Validation Loss: 3752.550728\n"
     ]
    },
    {
     "output_type": "stream",
     "name": "stderr",
     "text": [
      "Training Epoch 18/20: 100%|██████████| 782/782 [00:39<00:00, 20.04it/s, Loss=3.75e+3]\n"
     ]
    },
    {
     "output_type": "stream",
     "name": "stdout",
     "text": [
      "Epoch [18/20], Training Loss: 3751.941770, Validation Loss: 3751.442708\n"
     ]
    },
    {
     "output_type": "stream",
     "name": "stderr",
     "text": [
      "Training Epoch 19/20: 100%|██████████| 782/782 [00:39<00:00, 19.92it/s, Loss=3.76e+3]\n"
     ]
    },
    {
     "output_type": "stream",
     "name": "stdout",
     "text": [
      "Epoch [19/20], Training Loss: 3791.933945, Validation Loss: 3756.418980\n"
     ]
    },
    {
     "output_type": "stream",
     "name": "stderr",
     "text": [
      "Training Epoch 20/20: 100%|██████████| 782/782 [00:39<00:00, 19.83it/s, Loss=3.75e+3]\n",
      "                                                             "
     ]
    },
    {
     "output_type": "stream",
     "name": "stdout",
     "text": [
      "Epoch [20/20], Training Loss: 3754.614500, Validation Loss: 3753.655965\n"
     ]
    },
    {
     "output_type": "stream",
     "name": "stderr",
     "text": [
      "\r"
     ]
    }
   ]
  },
  {
   "cell_type": "code",
   "source": [
    "from PIL import Image\n",
    "\n",
    "image_path = \"/content/images/Glow_CIFAR10/generated_epoch_13.png\"\n",
    "image = Image.open(image_path)\n",
    "\n",
    "image"
   ],
   "metadata": {
    "colab": {
     "base_uri": "https://localhost:8080/",
     "height": 155
    },
    "id": "9iVR4xwOMK13",
    "outputId": "40aa96bb-fa80-4387-cb3b-3ab9c8d0ea2d"
   },
   "execution_count": 4,
   "outputs": [
    {
     "output_type": "execute_result",
     "data": {
      "text/plain": [
       "<PIL.PngImagePlugin.PngImageFile image mode=RGB size=138x138>"
      ],
      "image/png": "[encoded data removed]",
      "image/jpeg": "[encoded data removed]"
     },
     "metadata": {},
     "execution_count": 4
    }
   ]
  },
  {
   "cell_type": "code",
   "source": [],
   "metadata": {
    "id": "wG48vHPXRI0x"
   },
   "execution_count": null,
   "outputs": []
  }
 ]
}
